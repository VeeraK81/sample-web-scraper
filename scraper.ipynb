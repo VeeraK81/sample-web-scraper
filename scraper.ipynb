{
 "cells": [
  {
   "cell_type": "code",
   "execution_count": 1,
   "metadata": {},
   "outputs": [],
   "source": [
    "import requests\n",
    "from bs4 import BeautifulSoup\n",
    "from datetime import datetime \n",
    "from lxml import html \n",
    "\n",
    "def fetch_latest_post(url=\"https://www.jedha.co/blog\"):\n",
    "    response = requests.get(url)\n",
    "    \n",
    "    tree = html.fromstring(response.content)\n",
    "\n",
    "    # Latest posts are at: /html/body/div[2]/div/div[2]/div\n",
    "    content= tree.xpath(\"/html/body/div[2]/div/div[2]\")\n",
    "\n",
    "    for title in content: \n",
    "        title_list=title.xpath(\".//*[contains(@class, 'h6')]\")    \n",
    "        parsed_titles=[title.text_content() for title in title_list]\n",
    "    \n",
    "    return parsed_titles\n"
   ]
  },
  {
   "cell_type": "code",
   "execution_count": 2,
   "metadata": {},
   "outputs": [
    {
     "data": {
      "text/plain": [
       "['Les 7 métiers de la Cybersécurité qui recrutent',\n",
       " 'Les 12 métiers de la Data à connaître en 2024',\n",
       " 'Data Science : définition, applications et technologies']"
      ]
     },
     "execution_count": 2,
     "metadata": {},
     "output_type": "execute_result"
    }
   ],
   "source": [
    "fetch_latest_post()"
   ]
  },
  {
   "cell_type": "code",
   "execution_count": 10,
   "metadata": {},
   "outputs": [
    {
     "name": "stdout",
     "output_type": "stream",
     "text": [
      "\u001b[1m============================= test session starts ==============================\u001b[0m\n",
      "platform linux -- Python 3.12.4, pytest-8.3.2, pluggy-1.5.0\n",
      "rootdir: /home\n",
      "plugins: anyio-4.4.0\n",
      "collected 2 items                                                              \u001b[0m\n",
      "\n",
      "tests/tests.py \u001b[32m.\u001b[0m\u001b[32m.\u001b[0m\u001b[32m                                                        [100%]\u001b[0m\n",
      "\n",
      "\u001b[32m============================== \u001b[32m\u001b[1m2 passed\u001b[0m\u001b[32m in 0.21s\u001b[0m\u001b[32m ===============================\u001b[0m\n"
     ]
    }
   ],
   "source": [
    "!pytest tests/tests.py"
   ]
  }
 ],
 "metadata": {
  "kernelspec": {
   "display_name": "Python 3.11.2 64-bit",
   "language": "python",
   "name": "python3"
  },
  "language_info": {
   "codemirror_mode": {
    "name": "ipython",
    "version": 3
   },
   "file_extension": ".py",
   "mimetype": "text/x-python",
   "name": "python",
   "nbconvert_exporter": "python",
   "pygments_lexer": "ipython3",
   "version": "3.11.2"
  },
  "vscode": {
   "interpreter": {
    "hash": "916dbcbb3f70747c44a77c7bcd40155683ae19c65e1c03b4aa3499c5328201f1"
   }
  }
 },
 "nbformat": 4,
 "nbformat_minor": 2
}
